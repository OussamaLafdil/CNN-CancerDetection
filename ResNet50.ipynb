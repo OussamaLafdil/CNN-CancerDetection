{
  "cells": [
    {
      "cell_type": "markdown",
      "metadata": {
        "id": "view-in-github",
        "colab_type": "text"
      },
      "source": [
        "<a href=\"https://colab.research.google.com/github/OussamaLafdil/CNN-CancerDetection/blob/main/ResNet50.ipynb\" target=\"_parent\"><img src=\"https://colab.research.google.com/assets/colab-badge.svg\" alt=\"Open In Colab\"/></a>"
      ]
    },
    {
      "cell_type": "code",
      "execution_count": 37,
      "metadata": {
        "id": "Or_PgwfId3T5"
      },
      "outputs": [],
      "source": [
        "import tensorflow as tf\n",
        "from tensorflow.keras.applications import ResNet50\n",
        "from tensorflow.keras.layers import Dense, Flatten, GlobalAveragePooling2D ,Dropout\n",
        "from tensorflow.keras.models import Model ,load_model\n",
        "from tensorflow.keras.optimizers import Adam\n",
        "import numpy as np\n",
        "from PIL import Image\n",
        "from sklearn.model_selection import train_test_split\n",
        "from tensorflow.keras.utils import to_categorical\n",
        "from sklearn.metrics import classification_report, confusion_matrix\n",
        "from tensorflow.keras.callbacks import ModelCheckpoint ,ReduceLROnPlateau\n",
        "import matplotlib.pyplot as plt\n",
        "from collections import Counter\n",
        "import seaborn as sns\n",
        "import os"
      ]
    },
    {
      "cell_type": "markdown",
      "metadata": {
        "id": "rfiBNyaSkLNF"
      },
      "source": [
        "##Loading the data"
      ]
    },
    {
      "cell_type": "code",
      "execution_count": 38,
      "metadata": {
        "colab": {
          "base_uri": "https://localhost:8080/"
        },
        "id": "f7QnatE5kMuA",
        "outputId": "93dc64b4-6792-4469-a323-81dc927f31d1"
      },
      "outputs": [
        {
          "output_type": "stream",
          "name": "stdout",
          "text": [
            "Class Labels: ['Early', 'Pro', 'Pre', 'Benign']\n"
          ]
        }
      ],
      "source": [
        "# Chemins vers les répertoires des images\n",
        "augmented_data_path = '/content/drive/MyDrive/Augmented_Dataset'\n",
        "\n",
        "\n",
        "class_labels = os.listdir(augmented_data_path)\n",
        "print(f\"Class Labels: {class_labels}\")"
      ]
    },
    {
      "cell_type": "code",
      "execution_count": 39,
      "metadata": {
        "id": "SKibI0_UkaMY"
      },
      "outputs": [],
      "source": [
        "image_paths = []\n",
        "labels = []\n",
        "\n",
        "# get the image paths and labels\n",
        "for label in class_labels:\n",
        "    folder_path = os.path.join(augmented_data_path, label)\n",
        "    for image_file in os.listdir(folder_path):\n",
        "        image_path = os.path.join(folder_path, image_file)\n",
        "        image_paths.append(image_path)\n",
        "        labels.append(label)\n",
        "\n",
        "class_counts = Counter(labels)"
      ]
    },
    {
      "cell_type": "code",
      "execution_count": 40,
      "metadata": {
        "id": "V-OqnjRzraoj"
      },
      "outputs": [],
      "source": [
        "# Chemin vers les images\n",
        "image_arrays = []\n",
        "for img_path in image_paths:\n",
        "    with Image.open(img_path) as img:\n",
        "        img = img.resize((224, 224))  # Redimensionner à 224x224\n",
        "        image_arrays.append(np.array(img))\n",
        "\n",
        "# Convertir en un tableau numpy\n",
        "all_images = np.stack(image_arrays)\n",
        "np.save('processed_images.npy', all_images)  # Sauvegarde en fichier .npy"
      ]
    },
    {
      "cell_type": "code",
      "execution_count": 41,
      "metadata": {
        "id": "FX1_VJxzriUx"
      },
      "outputs": [],
      "source": [
        "# Charger les images traitées\n",
        "all_images = np.load('processed_images.npy')"
      ]
    },
    {
      "cell_type": "markdown",
      "metadata": {
        "id": "CHL_G1pvkj0S"
      },
      "source": [
        "##Plotting Class distributions"
      ]
    },
    {
      "cell_type": "code",
      "execution_count": 42,
      "metadata": {
        "colab": {
          "base_uri": "https://localhost:8080/",
          "height": 487
        },
        "id": "2OkMqjUMklcM",
        "outputId": "b9c60b0c-e4be-4069-90f3-fde2790d350a"
      },
      "outputs": [
        {
          "output_type": "display_data",
          "data": {
            "text/plain": [
              "<Figure size 1000x500 with 1 Axes>"
            ],
            "image/png": "[encoded data removed]"
          },
          "metadata": {}
        }
      ],
      "source": [
        "# plot the distribution of classes\n",
        "plt.figure(figsize=(10, 5))\n",
        "plt.bar(class_counts.keys(), class_counts.values())\n",
        "plt.title('Class Distribution')\n",
        "plt.xlabel('Class')\n",
        "plt.ylabel('Number of Images')\n",
        "plt.show()"
      ]
    },
    {
      "cell_type": "markdown",
      "metadata": {
        "id": "xwXUiyHoeSDK"
      },
      "source": [
        "##Encoding labels : one-hot encoding"
      ]
    },
    {
      "cell_type": "code",
      "execution_count": 43,
      "metadata": {
        "id": "FRmHRgW0eRs3"
      },
      "outputs": [],
      "source": [
        "class_names = list(set(labels))\n",
        "label_to_index = {label: index for index, label in enumerate(class_names)}\n",
        "labels_encoded = [label_to_index[label] for label in labels]\n",
        "labels_categorical = to_categorical(labels_encoded, num_classes=len(class_names))"
      ]
    },
    {
      "cell_type": "markdown",
      "metadata": {
        "id": "C0mO21-Neidn"
      },
      "source": [
        "##Split Data into train and validation set"
      ]
    },
    {
      "cell_type": "code",
      "execution_count": 44,
      "metadata": {
        "id": "ClSQVaA_efGp"
      },
      "outputs": [],
      "source": [
        "X_train, X_temp, y_train, y_temp = train_test_split(all_images, np.array(labels_categorical), test_size=0.3, random_state=42)\n",
        "X_val, X_test, y_val, y_test = train_test_split(X_temp, y_temp, test_size=0.5, random_state=42)"
      ]
    },
    {
      "cell_type": "markdown",
      "metadata": {
        "id": "KuNT0kjweqfy"
      },
      "source": [
        "##Pixel Normalization"
      ]
    },
    {
      "cell_type": "code",
      "execution_count": 45,
      "metadata": {
        "id": "HPF7NLAXes1O"
      },
      "outputs": [],
      "source": [
        "X_train = X_train / 255.0\n",
        "X_val = X_val / 255.0\n",
        "X_test = X_test / 255.0"
      ]
    },
    {
      "cell_type": "markdown",
      "metadata": {
        "id": "4sgh5h6-fcR2"
      },
      "source": [
        "##ResNet50 Model"
      ]
    },
    {
      "cell_type": "code",
      "execution_count": 46,
      "metadata": {
        "id": "Vans2PZTot4S"
      },
      "outputs": [],
      "source": [
        "# Création du modèle basé sur ResNet50 avec des poids préentraînés sur ImageNet\n",
        "base_model = ResNet50(weights='imagenet', include_top=False, input_shape=(224, 224, 3))\n",
        "\n",
        "# Geler toutes les couches de ResNet50\n",
        "for layer in base_model.layers:\n",
        "    layer.trainable = False"
      ]
    },
    {
      "cell_type": "code",
      "execution_count": 47,
      "metadata": {
        "id": "LXU7LzgTo7Qj"
      },
      "outputs": [],
      "source": [
        "# Ajout de couches personnalisées\n",
        "x = base_model.output\n",
        "x = Flatten()(x)\n",
        "x = Dense(1024, activation='relu')(x)\n",
        "x = Dense(512, activation='relu')(x)\n",
        "output_layer = Dense(4, activation='softmax')(x)  # 4 classes : Bengin, Early, Pre, Pro"
      ]
    },
    {
      "cell_type": "code",
      "execution_count": 48,
      "metadata": {
        "id": "MI8cDng2pFkb"
      },
      "outputs": [],
      "source": [
        "model = Model(inputs=base_model.input, outputs=output_layer)"
      ]
    },
    {
      "cell_type": "markdown",
      "metadata": {
        "id": "dwfLQuvEnEXl"
      },
      "source": [
        " ## Déclaration du checkpoint pour sauvegarder le meilleur modèle"
      ]
    },
    {
      "cell_type": "code",
      "execution_count": 49,
      "metadata": {
        "id": "Nn_HC8QnnG8t"
      },
      "outputs": [],
      "source": [
        "checkpoint = ModelCheckpoint(\n",
        "    'best_model.keras',            # Changed the file extension to .keras\n",
        "    monitor='val_accuracy',        # Metric to monitor (validation accuracy)\n",
        "    verbose=1,                     # Verbose output\n",
        "    save_best_only=True,           # Only save the model if it’s the best\n",
        "    mode='max'                     # Save when val_accuracy is maximized\n",
        ")\n"
      ]
    },
    {
      "cell_type": "markdown",
      "metadata": {
        "id": "IjzvNoP8hEUg"
      },
      "source": [
        "## Entraînement du modèle"
      ]
    },
    {
      "cell_type": "code",
      "execution_count": 50,
      "metadata": {
        "colab": {
          "base_uri": "https://localhost:8080/"
        },
        "id": "9YvgHs1rpWAW",
        "outputId": "216d5f13-9289-4e6a-da21-bf111c8e536d"
      },
      "outputs": [
        {
          "output_type": "stream",
          "name": "stdout",
          "text": [
            "Epoch 1/30\n",
            "85/85 [==============================] - ETA: 0s - loss: 3.0598 - accuracy: 0.4074\n",
            "Epoch 1: val_accuracy improved from -inf to 0.52504, saving model to best_model.keras\n",
            "85/85 [==============================] - 93s 1s/step - loss: 3.0598 - accuracy: 0.4074 - val_loss: 0.9885 - val_accuracy: 0.5250\n",
            "Epoch 2/30\n",
            "85/85 [==============================] - ETA: 0s - loss: 1.0221 - accuracy: 0.5500\n",
            "Epoch 2: val_accuracy improved from 0.52504 to 0.54059, saving model to best_model.keras\n",
            "85/85 [==============================] - 89s 1s/step - loss: 1.0221 - accuracy: 0.5500 - val_loss: 0.9060 - val_accuracy: 0.5406\n",
            "Epoch 3/30\n",
            "85/85 [==============================] - ETA: 0s - loss: 0.9239 - accuracy: 0.6030\n",
            "Epoch 3: val_accuracy improved from 0.54059 to 0.61831, saving model to best_model.keras\n",
            "85/85 [==============================] - 90s 1s/step - loss: 0.9239 - accuracy: 0.6030 - val_loss: 0.8895 - val_accuracy: 0.6183\n",
            "Epoch 4/30\n",
            "85/85 [==============================] - ETA: 0s - loss: 0.8620 - accuracy: 0.6407\n",
            "Epoch 4: val_accuracy improved from 0.61831 to 0.66494, saving model to best_model.keras\n",
            "85/85 [==============================] - 90s 1s/step - loss: 0.8620 - accuracy: 0.6407 - val_loss: 0.8161 - val_accuracy: 0.6649\n",
            "Epoch 5/30\n",
            "85/85 [==============================] - ETA: 0s - loss: 0.8428 - accuracy: 0.6507\n",
            "Epoch 5: val_accuracy did not improve from 0.66494\n",
            "85/85 [==============================] - 85s 997ms/step - loss: 0.8428 - accuracy: 0.6507 - val_loss: 1.0180 - val_accuracy: 0.5976\n",
            "Epoch 6/30\n",
            "85/85 [==============================] - ETA: 0s - loss: 0.8030 - accuracy: 0.6648\n",
            "Epoch 6: val_accuracy did not improve from 0.66494\n",
            "85/85 [==============================] - 85s 996ms/step - loss: 0.8030 - accuracy: 0.6648 - val_loss: 0.8418 - val_accuracy: 0.6442\n",
            "Epoch 7/30\n",
            "85/85 [==============================] - ETA: 0s - loss: 0.7759 - accuracy: 0.6826\n",
            "Epoch 7: val_accuracy did not improve from 0.66494\n",
            "85/85 [==============================] - 85s 1s/step - loss: 0.7759 - accuracy: 0.6826 - val_loss: 1.4314 - val_accuracy: 0.3351\n",
            "Epoch 8/30\n",
            "85/85 [==============================] - ETA: 0s - loss: 0.7370 - accuracy: 0.6941\n",
            "Epoch 8: val_accuracy improved from 0.66494 to 0.79275, saving model to best_model.keras\n",
            "85/85 [==============================] - 90s 1s/step - loss: 0.7370 - accuracy: 0.6941 - val_loss: 0.5944 - val_accuracy: 0.7927\n",
            "Epoch 9/30\n",
            "85/85 [==============================] - ETA: 0s - loss: 0.6867 - accuracy: 0.7241\n",
            "Epoch 9: val_accuracy did not improve from 0.79275\n",
            "85/85 [==============================] - 84s 994ms/step - loss: 0.6867 - accuracy: 0.7241 - val_loss: 0.6493 - val_accuracy: 0.7219\n",
            "Epoch 10/30\n",
            "85/85 [==============================] - ETA: 0s - loss: 0.7210 - accuracy: 0.7111\n",
            "Epoch 10: val_accuracy did not improve from 0.79275\n",
            "85/85 [==============================] - 85s 1s/step - loss: 0.7210 - accuracy: 0.7111 - val_loss: 0.6191 - val_accuracy: 0.7496\n",
            "Epoch 11/30\n",
            "85/85 [==============================] - ETA: 0s - loss: 0.6613 - accuracy: 0.7304\n",
            "Epoch 11: val_accuracy did not improve from 0.79275\n",
            "85/85 [==============================] - 86s 1s/step - loss: 0.6613 - accuracy: 0.7304 - val_loss: 0.9305 - val_accuracy: 0.6252\n",
            "Epoch 12/30\n",
            "85/85 [==============================] - ETA: 0s - loss: 0.6556 - accuracy: 0.7400\n",
            "Epoch 12: val_accuracy did not improve from 0.79275\n",
            "85/85 [==============================] - 86s 1s/step - loss: 0.6556 - accuracy: 0.7400 - val_loss: 0.8181 - val_accuracy: 0.6770\n",
            "Epoch 13/30\n",
            "85/85 [==============================] - ETA: 0s - loss: 0.6751 - accuracy: 0.7341\n",
            "Epoch 13: val_accuracy did not improve from 0.79275\n",
            "85/85 [==============================] - 85s 997ms/step - loss: 0.6751 - accuracy: 0.7341 - val_loss: 0.5958 - val_accuracy: 0.7910\n",
            "Epoch 14/30\n",
            "85/85 [==============================] - ETA: 0s - loss: 0.6265 - accuracy: 0.7596\n",
            "Epoch 14: val_accuracy did not improve from 0.79275\n",
            "85/85 [==============================] - 86s 1s/step - loss: 0.6265 - accuracy: 0.7596 - val_loss: 0.5531 - val_accuracy: 0.7772\n",
            "Epoch 15/30\n",
            "85/85 [==============================] - ETA: 0s - loss: 0.5831 - accuracy: 0.7763\n",
            "Epoch 15: val_accuracy improved from 0.79275 to 0.81520, saving model to best_model.keras\n",
            "85/85 [==============================] - 89s 1s/step - loss: 0.5831 - accuracy: 0.7763 - val_loss: 0.4872 - val_accuracy: 0.8152\n",
            "Epoch 16/30\n",
            "85/85 [==============================] - ETA: 0s - loss: 0.5888 - accuracy: 0.7726\n",
            "Epoch 16: val_accuracy did not improve from 0.81520\n",
            "85/85 [==============================] - 85s 1000ms/step - loss: 0.5888 - accuracy: 0.7726 - val_loss: 0.5027 - val_accuracy: 0.7997\n",
            "Epoch 17/30\n",
            "85/85 [==============================] - ETA: 0s - loss: 0.5390 - accuracy: 0.7881\n",
            "Epoch 17: val_accuracy did not improve from 0.81520\n",
            "85/85 [==============================] - 85s 1000ms/step - loss: 0.5390 - accuracy: 0.7881 - val_loss: 0.6939 - val_accuracy: 0.7617\n",
            "Epoch 18/30\n",
            "85/85 [==============================] - ETA: 0s - loss: 0.5961 - accuracy: 0.7737\n",
            "Epoch 18: val_accuracy did not improve from 0.81520\n",
            "85/85 [==============================] - 86s 1s/step - loss: 0.5961 - accuracy: 0.7737 - val_loss: 0.5410 - val_accuracy: 0.7824\n",
            "Epoch 19/30\n",
            "85/85 [==============================] - ETA: 0s - loss: 0.5446 - accuracy: 0.7856\n",
            "Epoch 19: val_accuracy did not improve from 0.81520\n",
            "85/85 [==============================] - 85s 1s/step - loss: 0.5446 - accuracy: 0.7856 - val_loss: 0.6766 - val_accuracy: 0.7219\n",
            "Epoch 20/30\n",
            "85/85 [==============================] - ETA: 0s - loss: 0.5160 - accuracy: 0.8052\n",
            "Epoch 20: val_accuracy did not improve from 0.81520\n",
            "85/85 [==============================] - 86s 1s/step - loss: 0.5160 - accuracy: 0.8052 - val_loss: 0.4583 - val_accuracy: 0.8031\n",
            "Epoch 21/30\n",
            "85/85 [==============================] - ETA: 0s - loss: 0.5018 - accuracy: 0.8059\n",
            "Epoch 21: val_accuracy improved from 0.81520 to 0.82383, saving model to best_model.keras\n",
            "85/85 [==============================] - 90s 1s/step - loss: 0.5018 - accuracy: 0.8059 - val_loss: 0.4668 - val_accuracy: 0.8238\n",
            "Epoch 22/30\n",
            "85/85 [==============================] - ETA: 0s - loss: 0.5401 - accuracy: 0.7981\n",
            "Epoch 22: val_accuracy did not improve from 0.82383\n",
            "85/85 [==============================] - 85s 999ms/step - loss: 0.5401 - accuracy: 0.7981 - val_loss: 0.5475 - val_accuracy: 0.7945\n",
            "Epoch 23/30\n",
            "85/85 [==============================] - ETA: 0s - loss: 0.4792 - accuracy: 0.8252\n",
            "Epoch 23: val_accuracy did not improve from 0.82383\n",
            "85/85 [==============================] - 85s 1s/step - loss: 0.4792 - accuracy: 0.8252 - val_loss: 0.4904 - val_accuracy: 0.8083\n",
            "Epoch 24/30\n",
            "85/85 [==============================] - ETA: 0s - loss: 0.4895 - accuracy: 0.8048\n",
            "Epoch 24: val_accuracy did not improve from 0.82383\n",
            "85/85 [==============================] - 86s 1s/step - loss: 0.4895 - accuracy: 0.8048 - val_loss: 0.5105 - val_accuracy: 0.7876\n",
            "Epoch 25/30\n",
            "85/85 [==============================] - ETA: 0s - loss: 0.4613 - accuracy: 0.8204\n",
            "Epoch 25: val_accuracy did not improve from 0.82383\n",
            "85/85 [==============================] - 85s 1s/step - loss: 0.4613 - accuracy: 0.8204 - val_loss: 0.4723 - val_accuracy: 0.8048\n",
            "Epoch 26/30\n",
            "85/85 [==============================] - ETA: 0s - loss: 0.4530 - accuracy: 0.8267\n",
            "Epoch 26: val_accuracy did not improve from 0.82383\n",
            "85/85 [==============================] - 87s 1s/step - loss: 0.4530 - accuracy: 0.8267 - val_loss: 0.5431 - val_accuracy: 0.7686\n",
            "Epoch 27/30\n",
            "85/85 [==============================] - ETA: 0s - loss: 0.5014 - accuracy: 0.8078\n",
            "Epoch 27: val_accuracy did not improve from 0.82383\n",
            "85/85 [==============================] - 86s 1s/step - loss: 0.5014 - accuracy: 0.8078 - val_loss: 0.5857 - val_accuracy: 0.7565\n",
            "Epoch 28/30\n",
            "85/85 [==============================] - ETA: 0s - loss: 0.4549 - accuracy: 0.8230\n",
            "Epoch 28: val_accuracy improved from 0.82383 to 0.83765, saving model to best_model.keras\n",
            "85/85 [==============================] - 94s 1s/step - loss: 0.4549 - accuracy: 0.8230 - val_loss: 0.4164 - val_accuracy: 0.8377\n",
            "Epoch 29/30\n",
            "85/85 [==============================] - ETA: 0s - loss: 0.4634 - accuracy: 0.8274\n",
            "Epoch 29: val_accuracy did not improve from 0.83765\n",
            "85/85 [==============================] - 84s 994ms/step - loss: 0.4634 - accuracy: 0.8274 - val_loss: 0.4665 - val_accuracy: 0.8152\n",
            "Epoch 30/30\n",
            "85/85 [==============================] - ETA: 0s - loss: 0.3677 - accuracy: 0.8615\n",
            "Epoch 30: val_accuracy improved from 0.83765 to 0.86010, saving model to best_model.keras\n",
            "85/85 [==============================] - 88s 1s/step - loss: 0.3677 - accuracy: 0.8615 - val_loss: 0.3516 - val_accuracy: 0.8601\n"
          ]
        }
      ],
      "source": [
        "reduce_lr = ReduceLROnPlateau(monitor='val_loss', factor=0.5, patience=3, min_lr=1e-6)\n",
        "# Applique un facteur de réduction de 0.5 si 'val_loss' ne s'améliore pas après 3 epochs.\n",
        "\n",
        "# Compiler le modèle pour la première phase avec les couches gelées\n",
        "model.compile(optimizer='adam', loss='categorical_crossentropy', metrics=['accuracy'])\n",
        "\n",
        "# Entraînement de la première phase ( 20 premières époques)\n",
        "history = model.fit(\n",
        "    X_train, y_train,\n",
        "    epochs=30,\n",
        "    batch_size=32,\n",
        "    validation_data=(X_val, y_val),\n",
        "    callbacks=[checkpoint, reduce_lr]\n",
        ")"
      ]
    },
    {
      "cell_type": "code",
      "execution_count": 51,
      "metadata": {
        "id": "UoCOYgbDhM4K",
        "colab": {
          "base_uri": "https://localhost:8080/",
          "height": 487
        },
        "outputId": "1557bd08-7c9c-421d-d8c2-88f90005956a"
      },
      "outputs": [
        {
          "output_type": "display_data",
          "data": {
            "text/plain": [
              "<Figure size 1000x500 with 1 Axes>"
            ],
            "image/png": "[encoded data removed]"
          },
          "metadata": {}
        }
      ],
      "source": [
        "# Extraire les données de perte pour la phase d'entraînement\n",
        "train_loss = history.history['loss']\n",
        "val_loss = history.history['val_loss']\n",
        "\n",
        "\n",
        "# plot the training and validation loss\n",
        "plt.figure(figsize=(10, 5))\n",
        "plt.plot(train_loss, label='Training Loss')\n",
        "plt.plot(val_loss, label='Validation Loss')\n",
        "plt.title('Training and Validation Loss')\n",
        "plt.xlabel('Epochs')\n",
        "plt.ylabel('Loss')\n",
        "plt.legend()\n",
        "plt.show()"
      ]
    },
    {
      "cell_type": "code",
      "execution_count": 52,
      "metadata": {
        "id": "dNkHQXNGhS_Z",
        "colab": {
          "base_uri": "https://localhost:8080/"
        },
        "outputId": "f2cb87d4-6422-4e90-d2a0-3a7aec0359d6"
      },
      "outputs": [
        {
          "output_type": "stream",
          "name": "stdout",
          "text": [
            "19/19 [==============================] - 11s 530ms/step\n",
            "Classification Report:\n",
            "               precision    recall  f1-score   support\n",
            "\n",
            "         Pre       0.83      0.90      0.86       142\n",
            "         Pro       0.88      0.99      0.93       140\n",
            "      Benign       0.92      0.85      0.88       139\n",
            "       Early       0.89      0.79      0.84       158\n",
            "\n",
            "    accuracy                           0.88       579\n",
            "   macro avg       0.88      0.88      0.88       579\n",
            "weighted avg       0.88      0.88      0.88       579\n",
            "\n"
          ]
        }
      ],
      "source": [
        "y_pred = model.predict(X_test)\n",
        "y_pred_classes = np.argmax(y_pred, axis=1)\n",
        "y_true = np.argmax(y_test, axis=1)\n",
        "\n",
        "\n",
        "report = classification_report(y_true, y_pred_classes, target_names=class_names)\n",
        "print(\"Classification Report:\\n\", report)"
      ]
    },
    {
      "cell_type": "code",
      "execution_count": 54,
      "metadata": {
        "id": "3Fi3HFoOhU2I"
      },
      "outputs": [],
      "source": [
        "best_model = load_model('best_model.keras')"
      ]
    },
    {
      "cell_type": "code",
      "execution_count": 55,
      "metadata": {
        "id": "3-cGH5rkhWbc",
        "colab": {
          "base_uri": "https://localhost:8080/"
        },
        "outputId": "e0813f6d-5612-4158-dfc2-ccfceade6b21"
      },
      "outputs": [
        {
          "output_type": "stream",
          "name": "stdout",
          "text": [
            "19/19 [==============================] - 12s 517ms/step - loss: 0.3516 - accuracy: 0.8601\n",
            "Validation Accuracy: 86.01%\n"
          ]
        }
      ],
      "source": [
        "# evaluate the model on validation set\n",
        "val_loss, val_accuracy = best_model.evaluate(X_val, y_val)\n",
        "print(f\"Validation Accuracy: {val_accuracy * 100:.2f}%\")"
      ]
    },
    {
      "cell_type": "code",
      "execution_count": 56,
      "metadata": {
        "id": "er87fZXPhYqr",
        "colab": {
          "base_uri": "https://localhost:8080/"
        },
        "outputId": "ea5df91c-aa98-41c9-bd41-b0cfeeb8a26e"
      },
      "outputs": [
        {
          "output_type": "stream",
          "name": "stdout",
          "text": [
            "19/19 [==============================] - 10s 493ms/step\n",
            "Classification Report:\n",
            "               precision    recall  f1-score   support\n",
            "\n",
            "         Pre       0.83      0.90      0.86       142\n",
            "         Pro       0.88      0.99      0.93       140\n",
            "      Benign       0.92      0.85      0.88       139\n",
            "       Early       0.89      0.79      0.84       158\n",
            "\n",
            "    accuracy                           0.88       579\n",
            "   macro avg       0.88      0.88      0.88       579\n",
            "weighted avg       0.88      0.88      0.88       579\n",
            "\n"
          ]
        }
      ],
      "source": [
        "y_pred = best_model.predict(X_test)\n",
        "y_pred_classes = np.argmax(y_pred, axis=1)\n",
        "y_true = np.argmax(y_test, axis=1)\n",
        "\n",
        "\n",
        "report = classification_report(y_true, y_pred_classes, target_names=class_names)\n",
        "print(\"Classification Report:\\n\", report)"
      ]
    },
    {
      "cell_type": "code",
      "execution_count": 57,
      "metadata": {
        "id": "bO4p2HnShabD",
        "colab": {
          "base_uri": "https://localhost:8080/",
          "height": 564
        },
        "outputId": "6d50d5bf-c2d5-4a4c-dd86-38b2776b0ee8"
      },
      "outputs": [
        {
          "output_type": "display_data",
          "data": {
            "text/plain": [
              "<Figure size 800x600 with 2 Axes>"
            ],
            "image/png": "[encoded data removed]"
          },
          "metadata": {}
        }
      ],
      "source": [
        "conf_matrix = confusion_matrix(y_true, y_pred_classes)\n",
        "\n",
        "plt.figure(figsize=(8, 6))\n",
        "sns.heatmap(conf_matrix, annot=True, fmt='d', cmap='Blues', xticklabels=class_names, yticklabels=class_names)\n",
        "plt.title('Confusion Matrix')\n",
        "plt.xlabel('Predicted Label')\n",
        "plt.ylabel('True Label')\n",
        "plt.show()"
      ]
    }
  ],
  "metadata": {
    "colab": {
      "provenance": [],
      "gpuType": "V28",
      "include_colab_link": true
    },
    "kernelspec": {
      "display_name": "Python 3",
      "name": "python3"
    },
    "language_info": {
      "name": "python"
    },
    "accelerator": "TPU"
  },
  "nbformat": 4,
  "nbformat_minor": 0
}