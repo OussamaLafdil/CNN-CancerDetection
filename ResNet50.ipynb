{
  "cells": [
    {
      "cell_type": "markdown",
      "metadata": {
        "id": "view-in-github",
        "colab_type": "text"
      },
      "source": [
        "<a href=\"https://colab.research.google.com/github/OussamaLafdil/CNN-CancerDetection/blob/main/ResNet50.ipynb\" target=\"_parent\"><img src=\"https://colab.research.google.com/assets/colab-badge.svg\" alt=\"Open In Colab\"/></a>"
      ]
    },
    {
      "cell_type": "code",
      "execution_count": 3,
      "metadata": {
        "id": "Or_PgwfId3T5"
      },
      "outputs": [],
      "source": [
        "import tensorflow as tf\n",
        "from tensorflow.keras.applications import ResNet50\n",
        "from tensorflow.keras.layers import Dense, Flatten, GlobalAveragePooling2D\n",
        "from tensorflow.keras.models import Model ,load_model\n",
        "from tensorflow.keras.optimizers import Adam\n",
        "import numpy as np\n",
        "from PIL import Image\n",
        "from sklearn.model_selection import train_test_split\n",
        "from tensorflow.keras.utils import to_categorical\n",
        "from sklearn.metrics import classification_report, confusion_matrix\n",
        "from tensorflow.keras.callbacks import ModelCheckpoint ,ReduceLROnPlateau\n",
        "import matplotlib.pyplot as plt\n",
        "from collections import Counter\n",
        "import seaborn as sns\n",
        "import os"
      ]
    },
    {
      "cell_type": "code",
      "source": [
        "from google.colab import drive\n",
        "drive.mount('/content/drive')"
      ],
      "metadata": {
        "id": "SQfXqlNjxsJ9",
        "outputId": "691c76ff-3690-4b08-edcd-300afbdff73d",
        "colab": {
          "base_uri": "https://localhost:8080/"
        }
      },
      "execution_count": 4,
      "outputs": [
        {
          "output_type": "stream",
          "name": "stdout",
          "text": [
            "Drive already mounted at /content/drive; to attempt to forcibly remount, call drive.mount(\"/content/drive\", force_remount=True).\n"
          ]
        }
      ]
    },
    {
      "cell_type": "markdown",
      "metadata": {
        "id": "rfiBNyaSkLNF"
      },
      "source": [
        "##Loading the data"
      ]
    },
    {
      "cell_type": "code",
      "execution_count": 5,
      "metadata": {
        "colab": {
          "base_uri": "https://localhost:8080/"
        },
        "id": "f7QnatE5kMuA",
        "outputId": "d91c6a9c-ccdb-45a7-f893-13e7936ff935"
      },
      "outputs": [
        {
          "output_type": "stream",
          "name": "stdout",
          "text": [
            "Class Labels: ['Early', 'Pre', 'Benign', 'Pro']\n"
          ]
        }
      ],
      "source": [
        "# Chemins vers les répertoires des images\n",
        "augmented_data_path = '/content/drive/MyDrive/Augmented_Dataset'\n",
        "\n",
        "\n",
        "class_labels = os.listdir(augmented_data_path)\n",
        "print(f\"Class Labels: {class_labels}\")"
      ]
    },
    {
      "cell_type": "code",
      "execution_count": 6,
      "metadata": {
        "id": "SKibI0_UkaMY"
      },
      "outputs": [],
      "source": [
        "image_paths = []\n",
        "labels = []\n",
        "\n",
        "# get the image paths and labels\n",
        "for label in class_labels:\n",
        "    folder_path = os.path.join(augmented_data_path, label)\n",
        "    for image_file in os.listdir(folder_path):\n",
        "        image_path = os.path.join(folder_path, image_file)\n",
        "        image_paths.append(image_path)\n",
        "        labels.append(label)\n",
        "\n",
        "class_counts = Counter(labels)"
      ]
    },
    {
      "cell_type": "code",
      "execution_count": null,
      "metadata": {
        "id": "V-OqnjRzraoj"
      },
      "outputs": [],
      "source": [
        "# Chemin vers les images\n",
        "image_arrays = []\n",
        "for img_path in image_paths:\n",
        "    with Image.open(img_path) as img:\n",
        "        img = img.resize((224, 224))  # Redimensionner à 224x224\n",
        "        image_arrays.append(np.array(img))\n",
        "\n",
        "# Convertir en un tableau numpy\n",
        "all_images = np.stack(image_arrays)\n",
        "np.save('processed_images.npy', all_images)  # Sauvegarde en fichier .npy"
      ]
    },
    {
      "cell_type": "code",
      "execution_count": null,
      "metadata": {
        "id": "FX1_VJxzriUx"
      },
      "outputs": [],
      "source": [
        "# Charger les images traitées\n",
        "all_images = np.load('processed_images.npy')"
      ]
    },
    {
      "cell_type": "markdown",
      "metadata": {
        "id": "CHL_G1pvkj0S"
      },
      "source": [
        "##Plotting Class distributions"
      ]
    },
    {
      "cell_type": "code",
      "execution_count": null,
      "metadata": {
        "id": "2OkMqjUMklcM"
      },
      "outputs": [],
      "source": [
        "# plot the distribution of classes\n",
        "plt.figure(figsize=(10, 5))\n",
        "plt.bar(class_counts.keys(), class_counts.values())\n",
        "plt.title('Class Distribution')\n",
        "plt.xlabel('Class')\n",
        "plt.ylabel('Number of Images')\n",
        "plt.show()"
      ]
    },
    {
      "cell_type": "markdown",
      "metadata": {
        "id": "xwXUiyHoeSDK"
      },
      "source": [
        "##Encoding labels : one-hot encoding"
      ]
    },
    {
      "cell_type": "code",
      "execution_count": null,
      "metadata": {
        "id": "FRmHRgW0eRs3"
      },
      "outputs": [],
      "source": [
        "class_names = list(set(labels))\n",
        "label_to_index = {label: index for index, label in enumerate(class_names)}\n",
        "labels_encoded = [label_to_index[label] for label in labels]\n",
        "labels_categorical = to_categorical(labels_encoded, num_classes=len(class_names))"
      ]
    },
    {
      "cell_type": "markdown",
      "metadata": {
        "id": "C0mO21-Neidn"
      },
      "source": [
        "##Split Data into train and validation set"
      ]
    },
    {
      "cell_type": "code",
      "execution_count": null,
      "metadata": {
        "id": "ClSQVaA_efGp"
      },
      "outputs": [],
      "source": [
        "X_train, X_temp, y_train, y_temp = train_test_split(all_images, np.array(labels_categorical), test_size=0.3, random_state=42)\n",
        "X_val, X_test, y_val, y_test = train_test_split(X_temp, y_temp, test_size=0.5, random_state=42)"
      ]
    },
    {
      "cell_type": "markdown",
      "metadata": {
        "id": "KuNT0kjweqfy"
      },
      "source": [
        "##Pixel Normalization"
      ]
    },
    {
      "cell_type": "code",
      "execution_count": null,
      "metadata": {
        "id": "HPF7NLAXes1O"
      },
      "outputs": [],
      "source": [
        "X_train = X_train / 255.0\n",
        "X_val = X_val / 255.0\n",
        "X_test = X_test / 255.0"
      ]
    },
    {
      "cell_type": "markdown",
      "metadata": {
        "id": "4sgh5h6-fcR2"
      },
      "source": [
        "##ResNet50 Model"
      ]
    },
    {
      "cell_type": "code",
      "execution_count": null,
      "metadata": {
        "id": "Vans2PZTot4S"
      },
      "outputs": [],
      "source": [
        "# Création du modèle basé sur ResNet50 avec des poids préentraînés sur ImageNet\n",
        "base_model = ResNet50(weights='imagenet', include_top=False, input_shape=(224, 224, 3))"
      ]
    },
    {
      "cell_type": "code",
      "execution_count": null,
      "metadata": {
        "id": "LXU7LzgTo7Qj"
      },
      "outputs": [],
      "source": [
        "# Ajout de couches personnalisées\n",
        "x = base_model.output\n",
        "x = GlobalAveragePooling2D()(x)\n",
        "x = Dense(256, activation='relu')(x)\n",
        "output_layer = Dense(4, activation='softmax')(x)  # 4 classes : Bengin, Early, Pre, Pro"
      ]
    },
    {
      "cell_type": "code",
      "execution_count": null,
      "metadata": {
        "id": "MI8cDng2pFkb"
      },
      "outputs": [],
      "source": [
        "model = Model(inputs=base_model.input, outputs=output_layer)"
      ]
    },
    {
      "cell_type": "markdown",
      "metadata": {
        "id": "dwfLQuvEnEXl"
      },
      "source": [
        " ## Déclaration du checkpoint pour sauvegarder le meilleur modèle"
      ]
    },
    {
      "cell_type": "code",
      "execution_count": null,
      "metadata": {
        "id": "Nn_HC8QnnG8t"
      },
      "outputs": [],
      "source": [
        "checkpoint = ModelCheckpoint(\n",
        "    'best_model.keras',            # Changed the file extension to .keras\n",
        "    monitor='val_accuracy',        # Metric to monitor (validation accuracy)\n",
        "    verbose=1,                     # Verbose output\n",
        "    save_best_only=True,           # Only save the model if it’s the best\n",
        "    mode='max'                     # Save when val_accuracy is maximized\n",
        ")\n"
      ]
    },
    {
      "cell_type": "markdown",
      "metadata": {
        "id": "IjzvNoP8hEUg"
      },
      "source": [
        "## Entraînement du modèle"
      ]
    },
    {
      "cell_type": "code",
      "execution_count": null,
      "metadata": {
        "id": "9YvgHs1rpWAW"
      },
      "outputs": [],
      "source": [
        "# Geler toutes les couches de ResNet50\n",
        "for layer in base_model.layers:\n",
        "    layer.trainable = False\n",
        "\n",
        "# Compiler le modèle pour la première phase avec les couches gelées\n",
        "model.compile(optimizer=Adam(learning_rate=0.001),\n",
        "              loss='categorical_crossentropy',\n",
        "              metrics=['accuracy'])\n",
        "\n",
        "history = model.fit(\n",
        "    X_train, y_train,\n",
        "    epochs=30,\n",
        "    batch_size=32,\n",
        "    validation_data=(X_val, y_val),\n",
        "    callbacks=[checkpoint]\n",
        ")"
      ]
    },
    {
      "cell_type": "code",
      "execution_count": null,
      "metadata": {
        "id": "UoCOYgbDhM4K"
      },
      "outputs": [],
      "source": [
        "# Extraire les données de perte pour la première phase d'entraînement\n",
        "train_loss= history.history['loss']\n",
        "val_loss = history.history['val_loss']\n",
        "\n",
        "# plot the training and validation loss\n",
        "plt.figure(figsize=(10, 5))\n",
        "plt.plot(train_loss, label='Training Loss')\n",
        "plt.plot(val_loss, label='Validation Loss')\n",
        "plt.title('Training and Validation Loss')\n",
        "plt.xlabel('Epochs')\n",
        "plt.ylabel('Loss')\n",
        "plt.legend()\n",
        "plt.show()"
      ]
    },
    {
      "cell_type": "code",
      "execution_count": null,
      "metadata": {
        "id": "dNkHQXNGhS_Z"
      },
      "outputs": [],
      "source": [
        "y_pred = model.predict(X_test)\n",
        "y_pred_classes = np.argmax(y_pred, axis=1)\n",
        "y_true = np.argmax(y_test, axis=1)\n",
        "\n",
        "\n",
        "report = classification_report(y_true, y_pred_classes, target_names=class_names)\n",
        "print(\"Classification Report:\\n\", report)"
      ]
    },
    {
      "cell_type": "code",
      "execution_count": null,
      "metadata": {
        "id": "3Fi3HFoOhU2I"
      },
      "outputs": [],
      "source": [
        "best_model = load_model('best_model.h5')"
      ]
    },
    {
      "cell_type": "code",
      "execution_count": null,
      "metadata": {
        "id": "3-cGH5rkhWbc"
      },
      "outputs": [],
      "source": [
        "# evaluate the model on validation set\n",
        "val_loss, val_accuracy = best_model.evaluate(X_val, y_val)\n",
        "print(f\"Validation Accuracy: {val_accuracy * 100:.2f}%\")"
      ]
    },
    {
      "cell_type": "code",
      "execution_count": null,
      "metadata": {
        "id": "er87fZXPhYqr"
      },
      "outputs": [],
      "source": [
        "y_pred = best_model.predict(X_test)\n",
        "y_pred_classes = np.argmax(y_pred, axis=1)\n",
        "y_true = np.argmax(y_test, axis=1)\n",
        "\n",
        "\n",
        "report = classification_report(y_true, y_pred_classes, target_names=class_names)\n",
        "print(\"Classification Report:\\n\", report)"
      ]
    },
    {
      "cell_type": "code",
      "execution_count": null,
      "metadata": {
        "id": "bO4p2HnShabD"
      },
      "outputs": [],
      "source": [
        "conf_matrix = confusion_matrix(y_true, y_pred_classes)\n",
        "\n",
        "plt.figure(figsize=(8, 6))\n",
        "sns.heatmap(conf_matrix, annot=True, fmt='d', cmap='Blues', xticklabels=class_names, yticklabels=class_names)\n",
        "plt.title('Confusion Matrix')\n",
        "plt.xlabel('Predicted Label')\n",
        "plt.ylabel('True Label')\n",
        "plt.show()"
      ]
    }
  ],
  "metadata": {
    "colab": {
      "provenance": [],
      "gpuType": "T4",
      "include_colab_link": true
    },
    "kernelspec": {
      "display_name": "Python 3",
      "name": "python3"
    },
    "language_info": {
      "name": "python"
    },
    "accelerator": "GPU"
  },
  "nbformat": 4,
  "nbformat_minor": 0
}